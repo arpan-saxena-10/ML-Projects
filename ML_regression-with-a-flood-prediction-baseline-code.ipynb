{
 "cells": [
  {
   "cell_type": "markdown",
   "id": "a92cc513",
   "metadata": {
    "papermill": {
     "duration": 0.006667,
     "end_time": "2024-09-29T11:07:38.777360",
     "exception": false,
     "start_time": "2024-09-29T11:07:38.770693",
     "status": "completed"
    },
    "tags": []
   },
   "source": [
    "### Baseline Flow\n",
    "1. Import packages\n",
    "2. Import Data\n",
    "3. Check Data \n",
    "4. Check Target Feature\n",
    "5. Partition Data into Y and X (Choose Features)\n",
    "6. Validation Data - Train Test Split\n",
    "7. Preprocessing (as many steps)\n",
    "8. Model\n",
    "9. Make Predictions\n",
    "10. Evalute metrics\n",
    "11. Export Predictions"
   ]
  },
  {
   "cell_type": "markdown",
   "id": "923ac046",
   "metadata": {
    "papermill": {
     "duration": 0.005762,
     "end_time": "2024-09-29T11:07:38.789273",
     "exception": false,
     "start_time": "2024-09-29T11:07:38.783511",
     "status": "completed"
    },
    "tags": []
   },
   "source": [
    "# **1/ Import Packages**"
   ]
  },
  {
   "cell_type": "code",
   "execution_count": 1,
   "id": "0e493136",
   "metadata": {
    "_cell_guid": "b1076dfc-b9ad-4769-8c92-a6c4dae69d19",
    "_uuid": "8f2839f25d086af736a60e9eeb907d3b93b6e0e5",
    "execution": {
     "iopub.execute_input": "2024-09-29T11:07:38.804485Z",
     "iopub.status.busy": "2024-09-29T11:07:38.803596Z",
     "iopub.status.idle": "2024-09-29T11:07:41.278194Z",
     "shell.execute_reply": "2024-09-29T11:07:41.276745Z"
    },
    "papermill": {
     "duration": 2.485642,
     "end_time": "2024-09-29T11:07:41.280885",
     "exception": false,
     "start_time": "2024-09-29T11:07:38.795243",
     "status": "completed"
    },
    "tags": []
   },
   "outputs": [
    {
     "name": "stdout",
     "output_type": "stream",
     "text": [
      "/kaggle/input/playground-series-s4e5/sample_submission.csv\n",
      "/kaggle/input/playground-series-s4e5/train.csv\n",
      "/kaggle/input/playground-series-s4e5/test.csv\n"
     ]
    }
   ],
   "source": [
    "import numpy as np # linear algebra\n",
    "import pandas as pd # data processing, CSV file I/O (e.g. pd.read_csv)\n",
    "from sklearn.model_selection import train_test_split\n",
    "\n",
    "from sklearn.preprocessing import StandardScaler\n",
    "\n",
    "from sklearn.linear_model import LinearRegression\n",
    "\n",
    "import os\n",
    "for dirname, _, filenames in os.walk('/kaggle/input'):\n",
    "    for filename in filenames:\n",
    "        print(os.path.join(dirname, filename))\n"
   ]
  },
  {
   "cell_type": "markdown",
   "id": "b078a025",
   "metadata": {
    "papermill": {
     "duration": 0.006034,
     "end_time": "2024-09-29T11:07:41.293980",
     "exception": false,
     "start_time": "2024-09-29T11:07:41.287946",
     "status": "completed"
    },
    "tags": []
   },
   "source": []
  },
  {
   "cell_type": "markdown",
   "id": "e236878f",
   "metadata": {
    "papermill": {
     "duration": 0.006798,
     "end_time": "2024-09-29T11:07:41.306934",
     "exception": false,
     "start_time": "2024-09-29T11:07:41.300136",
     "status": "completed"
    },
    "tags": []
   },
   "source": [
    "# 2/ Import Data\n"
   ]
  },
  {
   "cell_type": "code",
   "execution_count": 2,
   "id": "00e95f96",
   "metadata": {
    "execution": {
     "iopub.execute_input": "2024-09-29T11:07:41.321831Z",
     "iopub.status.busy": "2024-09-29T11:07:41.321289Z",
     "iopub.status.idle": "2024-09-29T11:07:44.706711Z",
     "shell.execute_reply": "2024-09-29T11:07:44.705580Z"
    },
    "papermill": {
     "duration": 3.39593,
     "end_time": "2024-09-29T11:07:44.709465",
     "exception": false,
     "start_time": "2024-09-29T11:07:41.313535",
     "status": "completed"
    },
    "tags": []
   },
   "outputs": [],
   "source": [
    "train = pd.read_csv('/kaggle/input/playground-series-s4e5/train.csv')\n",
    "test = pd.read_csv('/kaggle/input/playground-series-s4e5/test.csv')"
   ]
  },
  {
   "cell_type": "markdown",
   "id": "76898b5b",
   "metadata": {
    "papermill": {
     "duration": 0.006456,
     "end_time": "2024-09-29T11:07:44.722374",
     "exception": false,
     "start_time": "2024-09-29T11:07:44.715918",
     "status": "completed"
    },
    "tags": []
   },
   "source": [
    "# 3/ Check Data"
   ]
  },
  {
   "cell_type": "markdown",
   "id": "71e99845",
   "metadata": {
    "papermill": {
     "duration": 0.005835,
     "end_time": "2024-09-29T11:07:44.734366",
     "exception": false,
     "start_time": "2024-09-29T11:07:44.728531",
     "status": "completed"
    },
    "tags": []
   },
   "source": [
    "1. 5 rows\n",
    "2. Check names with data type\n",
    "3. Descriptive Stats\n",
    "4. Target Feature"
   ]
  },
  {
   "cell_type": "code",
   "execution_count": 3,
   "id": "ceab07be",
   "metadata": {
    "execution": {
     "iopub.execute_input": "2024-09-29T11:07:44.748390Z",
     "iopub.status.busy": "2024-09-29T11:07:44.747964Z",
     "iopub.status.idle": "2024-09-29T11:07:44.783357Z",
     "shell.execute_reply": "2024-09-29T11:07:44.782093Z"
    },
    "papermill": {
     "duration": 0.045161,
     "end_time": "2024-09-29T11:07:44.785668",
     "exception": false,
     "start_time": "2024-09-29T11:07:44.740507",
     "status": "completed"
    },
    "tags": []
   },
   "outputs": [
    {
     "data": {
      "text/html": [
       "<div>\n",
       "<style scoped>\n",
       "    .dataframe tbody tr th:only-of-type {\n",
       "        vertical-align: middle;\n",
       "    }\n",
       "\n",
       "    .dataframe tbody tr th {\n",
       "        vertical-align: top;\n",
       "    }\n",
       "\n",
       "    .dataframe thead th {\n",
       "        text-align: right;\n",
       "    }\n",
       "</style>\n",
       "<table border=\"1\" class=\"dataframe\">\n",
       "  <thead>\n",
       "    <tr style=\"text-align: right;\">\n",
       "      <th></th>\n",
       "      <th>id</th>\n",
       "      <th>MonsoonIntensity</th>\n",
       "      <th>TopographyDrainage</th>\n",
       "      <th>RiverManagement</th>\n",
       "      <th>Deforestation</th>\n",
       "      <th>Urbanization</th>\n",
       "      <th>ClimateChange</th>\n",
       "      <th>DamsQuality</th>\n",
       "      <th>Siltation</th>\n",
       "      <th>AgriculturalPractices</th>\n",
       "      <th>...</th>\n",
       "      <th>DrainageSystems</th>\n",
       "      <th>CoastalVulnerability</th>\n",
       "      <th>Landslides</th>\n",
       "      <th>Watersheds</th>\n",
       "      <th>DeterioratingInfrastructure</th>\n",
       "      <th>PopulationScore</th>\n",
       "      <th>WetlandLoss</th>\n",
       "      <th>InadequatePlanning</th>\n",
       "      <th>PoliticalFactors</th>\n",
       "      <th>FloodProbability</th>\n",
       "    </tr>\n",
       "  </thead>\n",
       "  <tbody>\n",
       "    <tr>\n",
       "      <th>0</th>\n",
       "      <td>0</td>\n",
       "      <td>5</td>\n",
       "      <td>8</td>\n",
       "      <td>5</td>\n",
       "      <td>8</td>\n",
       "      <td>6</td>\n",
       "      <td>4</td>\n",
       "      <td>4</td>\n",
       "      <td>3</td>\n",
       "      <td>3</td>\n",
       "      <td>...</td>\n",
       "      <td>5</td>\n",
       "      <td>3</td>\n",
       "      <td>3</td>\n",
       "      <td>5</td>\n",
       "      <td>4</td>\n",
       "      <td>7</td>\n",
       "      <td>5</td>\n",
       "      <td>7</td>\n",
       "      <td>3</td>\n",
       "      <td>0.445</td>\n",
       "    </tr>\n",
       "    <tr>\n",
       "      <th>1</th>\n",
       "      <td>1</td>\n",
       "      <td>6</td>\n",
       "      <td>7</td>\n",
       "      <td>4</td>\n",
       "      <td>4</td>\n",
       "      <td>8</td>\n",
       "      <td>8</td>\n",
       "      <td>3</td>\n",
       "      <td>5</td>\n",
       "      <td>4</td>\n",
       "      <td>...</td>\n",
       "      <td>7</td>\n",
       "      <td>2</td>\n",
       "      <td>0</td>\n",
       "      <td>3</td>\n",
       "      <td>5</td>\n",
       "      <td>3</td>\n",
       "      <td>3</td>\n",
       "      <td>4</td>\n",
       "      <td>3</td>\n",
       "      <td>0.450</td>\n",
       "    </tr>\n",
       "    <tr>\n",
       "      <th>2</th>\n",
       "      <td>2</td>\n",
       "      <td>6</td>\n",
       "      <td>5</td>\n",
       "      <td>6</td>\n",
       "      <td>7</td>\n",
       "      <td>3</td>\n",
       "      <td>7</td>\n",
       "      <td>1</td>\n",
       "      <td>5</td>\n",
       "      <td>4</td>\n",
       "      <td>...</td>\n",
       "      <td>7</td>\n",
       "      <td>3</td>\n",
       "      <td>7</td>\n",
       "      <td>5</td>\n",
       "      <td>6</td>\n",
       "      <td>8</td>\n",
       "      <td>2</td>\n",
       "      <td>3</td>\n",
       "      <td>3</td>\n",
       "      <td>0.530</td>\n",
       "    </tr>\n",
       "    <tr>\n",
       "      <th>3</th>\n",
       "      <td>3</td>\n",
       "      <td>3</td>\n",
       "      <td>4</td>\n",
       "      <td>6</td>\n",
       "      <td>5</td>\n",
       "      <td>4</td>\n",
       "      <td>8</td>\n",
       "      <td>4</td>\n",
       "      <td>7</td>\n",
       "      <td>6</td>\n",
       "      <td>...</td>\n",
       "      <td>2</td>\n",
       "      <td>4</td>\n",
       "      <td>7</td>\n",
       "      <td>4</td>\n",
       "      <td>4</td>\n",
       "      <td>6</td>\n",
       "      <td>5</td>\n",
       "      <td>7</td>\n",
       "      <td>5</td>\n",
       "      <td>0.535</td>\n",
       "    </tr>\n",
       "    <tr>\n",
       "      <th>4</th>\n",
       "      <td>4</td>\n",
       "      <td>5</td>\n",
       "      <td>3</td>\n",
       "      <td>2</td>\n",
       "      <td>6</td>\n",
       "      <td>4</td>\n",
       "      <td>4</td>\n",
       "      <td>3</td>\n",
       "      <td>3</td>\n",
       "      <td>3</td>\n",
       "      <td>...</td>\n",
       "      <td>2</td>\n",
       "      <td>2</td>\n",
       "      <td>6</td>\n",
       "      <td>6</td>\n",
       "      <td>4</td>\n",
       "      <td>1</td>\n",
       "      <td>2</td>\n",
       "      <td>3</td>\n",
       "      <td>5</td>\n",
       "      <td>0.415</td>\n",
       "    </tr>\n",
       "  </tbody>\n",
       "</table>\n",
       "<p>5 rows × 22 columns</p>\n",
       "</div>"
      ],
      "text/plain": [
       "   id  MonsoonIntensity  TopographyDrainage  RiverManagement  Deforestation  \\\n",
       "0   0                 5                   8                5              8   \n",
       "1   1                 6                   7                4              4   \n",
       "2   2                 6                   5                6              7   \n",
       "3   3                 3                   4                6              5   \n",
       "4   4                 5                   3                2              6   \n",
       "\n",
       "   Urbanization  ClimateChange  DamsQuality  Siltation  AgriculturalPractices  \\\n",
       "0             6              4            4          3                      3   \n",
       "1             8              8            3          5                      4   \n",
       "2             3              7            1          5                      4   \n",
       "3             4              8            4          7                      6   \n",
       "4             4              4            3          3                      3   \n",
       "\n",
       "   ...  DrainageSystems  CoastalVulnerability  Landslides  Watersheds  \\\n",
       "0  ...                5                     3           3           5   \n",
       "1  ...                7                     2           0           3   \n",
       "2  ...                7                     3           7           5   \n",
       "3  ...                2                     4           7           4   \n",
       "4  ...                2                     2           6           6   \n",
       "\n",
       "   DeterioratingInfrastructure  PopulationScore  WetlandLoss  \\\n",
       "0                            4                7            5   \n",
       "1                            5                3            3   \n",
       "2                            6                8            2   \n",
       "3                            4                6            5   \n",
       "4                            4                1            2   \n",
       "\n",
       "   InadequatePlanning  PoliticalFactors  FloodProbability  \n",
       "0                   7                 3             0.445  \n",
       "1                   4                 3             0.450  \n",
       "2                   3                 3             0.530  \n",
       "3                   7                 5             0.535  \n",
       "4                   3                 5             0.415  \n",
       "\n",
       "[5 rows x 22 columns]"
      ]
     },
     "execution_count": 3,
     "metadata": {},
     "output_type": "execute_result"
    }
   ],
   "source": [
    "train.head()"
   ]
  },
  {
   "cell_type": "code",
   "execution_count": 4,
   "id": "c063dbdb",
   "metadata": {
    "execution": {
     "iopub.execute_input": "2024-09-29T11:07:44.801871Z",
     "iopub.status.busy": "2024-09-29T11:07:44.801359Z",
     "iopub.status.idle": "2024-09-29T11:07:44.860788Z",
     "shell.execute_reply": "2024-09-29T11:07:44.859485Z"
    },
    "papermill": {
     "duration": 0.070891,
     "end_time": "2024-09-29T11:07:44.863620",
     "exception": false,
     "start_time": "2024-09-29T11:07:44.792729",
     "status": "completed"
    },
    "tags": []
   },
   "outputs": [
    {
     "name": "stdout",
     "output_type": "stream",
     "text": [
      "<class 'pandas.core.frame.DataFrame'>\n",
      "RangeIndex: 1117957 entries, 0 to 1117956\n",
      "Data columns (total 22 columns):\n",
      " #   Column                           Non-Null Count    Dtype  \n",
      "---  ------                           --------------    -----  \n",
      " 0   id                               1117957 non-null  int64  \n",
      " 1   MonsoonIntensity                 1117957 non-null  int64  \n",
      " 2   TopographyDrainage               1117957 non-null  int64  \n",
      " 3   RiverManagement                  1117957 non-null  int64  \n",
      " 4   Deforestation                    1117957 non-null  int64  \n",
      " 5   Urbanization                     1117957 non-null  int64  \n",
      " 6   ClimateChange                    1117957 non-null  int64  \n",
      " 7   DamsQuality                      1117957 non-null  int64  \n",
      " 8   Siltation                        1117957 non-null  int64  \n",
      " 9   AgriculturalPractices            1117957 non-null  int64  \n",
      " 10  Encroachments                    1117957 non-null  int64  \n",
      " 11  IneffectiveDisasterPreparedness  1117957 non-null  int64  \n",
      " 12  DrainageSystems                  1117957 non-null  int64  \n",
      " 13  CoastalVulnerability             1117957 non-null  int64  \n",
      " 14  Landslides                       1117957 non-null  int64  \n",
      " 15  Watersheds                       1117957 non-null  int64  \n",
      " 16  DeterioratingInfrastructure      1117957 non-null  int64  \n",
      " 17  PopulationScore                  1117957 non-null  int64  \n",
      " 18  WetlandLoss                      1117957 non-null  int64  \n",
      " 19  InadequatePlanning               1117957 non-null  int64  \n",
      " 20  PoliticalFactors                 1117957 non-null  int64  \n",
      " 21  FloodProbability                 1117957 non-null  float64\n",
      "dtypes: float64(1), int64(21)\n",
      "memory usage: 187.6 MB\n"
     ]
    }
   ],
   "source": [
    "train.info()"
   ]
  },
  {
   "cell_type": "code",
   "execution_count": 5,
   "id": "ab50a7f1",
   "metadata": {
    "execution": {
     "iopub.execute_input": "2024-09-29T11:07:44.882284Z",
     "iopub.status.busy": "2024-09-29T11:07:44.881555Z",
     "iopub.status.idle": "2024-09-29T11:07:44.898281Z",
     "shell.execute_reply": "2024-09-29T11:07:44.897216Z"
    },
    "papermill": {
     "duration": 0.026833,
     "end_time": "2024-09-29T11:07:44.900373",
     "exception": false,
     "start_time": "2024-09-29T11:07:44.873540",
     "status": "completed"
    },
    "tags": []
   },
   "outputs": [
    {
     "data": {
      "text/html": [
       "<div>\n",
       "<style scoped>\n",
       "    .dataframe tbody tr th:only-of-type {\n",
       "        vertical-align: middle;\n",
       "    }\n",
       "\n",
       "    .dataframe tbody tr th {\n",
       "        vertical-align: top;\n",
       "    }\n",
       "\n",
       "    .dataframe thead th {\n",
       "        text-align: right;\n",
       "    }\n",
       "</style>\n",
       "<table border=\"1\" class=\"dataframe\">\n",
       "  <thead>\n",
       "    <tr style=\"text-align: right;\">\n",
       "      <th></th>\n",
       "      <th>id</th>\n",
       "      <th>MonsoonIntensity</th>\n",
       "      <th>TopographyDrainage</th>\n",
       "      <th>RiverManagement</th>\n",
       "      <th>Deforestation</th>\n",
       "      <th>Urbanization</th>\n",
       "      <th>ClimateChange</th>\n",
       "      <th>DamsQuality</th>\n",
       "      <th>Siltation</th>\n",
       "      <th>AgriculturalPractices</th>\n",
       "      <th>...</th>\n",
       "      <th>IneffectiveDisasterPreparedness</th>\n",
       "      <th>DrainageSystems</th>\n",
       "      <th>CoastalVulnerability</th>\n",
       "      <th>Landslides</th>\n",
       "      <th>Watersheds</th>\n",
       "      <th>DeterioratingInfrastructure</th>\n",
       "      <th>PopulationScore</th>\n",
       "      <th>WetlandLoss</th>\n",
       "      <th>InadequatePlanning</th>\n",
       "      <th>PoliticalFactors</th>\n",
       "    </tr>\n",
       "  </thead>\n",
       "  <tbody>\n",
       "    <tr>\n",
       "      <th>0</th>\n",
       "      <td>1117957</td>\n",
       "      <td>4</td>\n",
       "      <td>6</td>\n",
       "      <td>3</td>\n",
       "      <td>5</td>\n",
       "      <td>6</td>\n",
       "      <td>7</td>\n",
       "      <td>8</td>\n",
       "      <td>7</td>\n",
       "      <td>8</td>\n",
       "      <td>...</td>\n",
       "      <td>8</td>\n",
       "      <td>5</td>\n",
       "      <td>7</td>\n",
       "      <td>5</td>\n",
       "      <td>6</td>\n",
       "      <td>3</td>\n",
       "      <td>6</td>\n",
       "      <td>4</td>\n",
       "      <td>4</td>\n",
       "      <td>5</td>\n",
       "    </tr>\n",
       "    <tr>\n",
       "      <th>1</th>\n",
       "      <td>1117958</td>\n",
       "      <td>4</td>\n",
       "      <td>4</td>\n",
       "      <td>2</td>\n",
       "      <td>9</td>\n",
       "      <td>5</td>\n",
       "      <td>5</td>\n",
       "      <td>4</td>\n",
       "      <td>7</td>\n",
       "      <td>5</td>\n",
       "      <td>...</td>\n",
       "      <td>2</td>\n",
       "      <td>4</td>\n",
       "      <td>7</td>\n",
       "      <td>4</td>\n",
       "      <td>5</td>\n",
       "      <td>1</td>\n",
       "      <td>7</td>\n",
       "      <td>4</td>\n",
       "      <td>4</td>\n",
       "      <td>3</td>\n",
       "    </tr>\n",
       "    <tr>\n",
       "      <th>2</th>\n",
       "      <td>1117959</td>\n",
       "      <td>1</td>\n",
       "      <td>3</td>\n",
       "      <td>6</td>\n",
       "      <td>5</td>\n",
       "      <td>7</td>\n",
       "      <td>2</td>\n",
       "      <td>4</td>\n",
       "      <td>6</td>\n",
       "      <td>4</td>\n",
       "      <td>...</td>\n",
       "      <td>7</td>\n",
       "      <td>9</td>\n",
       "      <td>2</td>\n",
       "      <td>5</td>\n",
       "      <td>5</td>\n",
       "      <td>2</td>\n",
       "      <td>3</td>\n",
       "      <td>6</td>\n",
       "      <td>8</td>\n",
       "      <td>3</td>\n",
       "    </tr>\n",
       "    <tr>\n",
       "      <th>3</th>\n",
       "      <td>1117960</td>\n",
       "      <td>2</td>\n",
       "      <td>4</td>\n",
       "      <td>4</td>\n",
       "      <td>6</td>\n",
       "      <td>4</td>\n",
       "      <td>5</td>\n",
       "      <td>4</td>\n",
       "      <td>3</td>\n",
       "      <td>4</td>\n",
       "      <td>...</td>\n",
       "      <td>7</td>\n",
       "      <td>8</td>\n",
       "      <td>4</td>\n",
       "      <td>6</td>\n",
       "      <td>7</td>\n",
       "      <td>6</td>\n",
       "      <td>4</td>\n",
       "      <td>2</td>\n",
       "      <td>4</td>\n",
       "      <td>4</td>\n",
       "    </tr>\n",
       "    <tr>\n",
       "      <th>4</th>\n",
       "      <td>1117961</td>\n",
       "      <td>6</td>\n",
       "      <td>3</td>\n",
       "      <td>2</td>\n",
       "      <td>4</td>\n",
       "      <td>6</td>\n",
       "      <td>4</td>\n",
       "      <td>5</td>\n",
       "      <td>5</td>\n",
       "      <td>3</td>\n",
       "      <td>...</td>\n",
       "      <td>4</td>\n",
       "      <td>3</td>\n",
       "      <td>2</td>\n",
       "      <td>6</td>\n",
       "      <td>4</td>\n",
       "      <td>6</td>\n",
       "      <td>8</td>\n",
       "      <td>4</td>\n",
       "      <td>5</td>\n",
       "      <td>5</td>\n",
       "    </tr>\n",
       "  </tbody>\n",
       "</table>\n",
       "<p>5 rows × 21 columns</p>\n",
       "</div>"
      ],
      "text/plain": [
       "        id  MonsoonIntensity  TopographyDrainage  RiverManagement  \\\n",
       "0  1117957                 4                   6                3   \n",
       "1  1117958                 4                   4                2   \n",
       "2  1117959                 1                   3                6   \n",
       "3  1117960                 2                   4                4   \n",
       "4  1117961                 6                   3                2   \n",
       "\n",
       "   Deforestation  Urbanization  ClimateChange  DamsQuality  Siltation  \\\n",
       "0              5             6              7            8          7   \n",
       "1              9             5              5            4          7   \n",
       "2              5             7              2            4          6   \n",
       "3              6             4              5            4          3   \n",
       "4              4             6              4            5          5   \n",
       "\n",
       "   AgriculturalPractices  ...  IneffectiveDisasterPreparedness  \\\n",
       "0                      8  ...                                8   \n",
       "1                      5  ...                                2   \n",
       "2                      4  ...                                7   \n",
       "3                      4  ...                                7   \n",
       "4                      3  ...                                4   \n",
       "\n",
       "   DrainageSystems  CoastalVulnerability  Landslides  Watersheds  \\\n",
       "0                5                     7           5           6   \n",
       "1                4                     7           4           5   \n",
       "2                9                     2           5           5   \n",
       "3                8                     4           6           7   \n",
       "4                3                     2           6           4   \n",
       "\n",
       "   DeterioratingInfrastructure  PopulationScore  WetlandLoss  \\\n",
       "0                            3                6            4   \n",
       "1                            1                7            4   \n",
       "2                            2                3            6   \n",
       "3                            6                4            2   \n",
       "4                            6                8            4   \n",
       "\n",
       "   InadequatePlanning  PoliticalFactors  \n",
       "0                   4                 5  \n",
       "1                   4                 3  \n",
       "2                   8                 3  \n",
       "3                   4                 4  \n",
       "4                   5                 5  \n",
       "\n",
       "[5 rows x 21 columns]"
      ]
     },
     "execution_count": 5,
     "metadata": {},
     "output_type": "execute_result"
    }
   ],
   "source": [
    "test.head()"
   ]
  },
  {
   "cell_type": "markdown",
   "id": "4aeeae2c",
   "metadata": {
    "papermill": {
     "duration": 0.006573,
     "end_time": "2024-09-29T11:07:44.914019",
     "exception": false,
     "start_time": "2024-09-29T11:07:44.907446",
     "status": "completed"
    },
    "tags": []
   },
   "source": [
    "# 4/ Check Target Feature"
   ]
  },
  {
   "cell_type": "code",
   "execution_count": 6,
   "id": "706581a9",
   "metadata": {
    "execution": {
     "iopub.execute_input": "2024-09-29T11:07:44.929728Z",
     "iopub.status.busy": "2024-09-29T11:07:44.928973Z",
     "iopub.status.idle": "2024-09-29T11:07:45.294436Z",
     "shell.execute_reply": "2024-09-29T11:07:45.293261Z"
    },
    "papermill": {
     "duration": 0.375888,
     "end_time": "2024-09-29T11:07:45.296813",
     "exception": false,
     "start_time": "2024-09-29T11:07:44.920925",
     "status": "completed"
    },
    "tags": []
   },
   "outputs": [
    {
     "data": {
      "text/plain": [
       "<Axes: ylabel='Frequency'>"
      ]
     },
     "execution_count": 6,
     "metadata": {},
     "output_type": "execute_result"
    },
    {
     "data": {
      "image/png": "[encoded data removed]",
      "text/plain": [
       "<Figure size 640x480 with 1 Axes>"
      ]
     },
     "metadata": {},
     "output_type": "display_data"
    }
   ],
   "source": [
    "train['FloodProbability'].plot.hist()"
   ]
  },
  {
   "cell_type": "code",
   "execution_count": 7,
   "id": "e7250e63",
   "metadata": {
    "execution": {
     "iopub.execute_input": "2024-09-29T11:07:45.314298Z",
     "iopub.status.busy": "2024-09-29T11:07:45.313877Z",
     "iopub.status.idle": "2024-09-29T11:07:45.373336Z",
     "shell.execute_reply": "2024-09-29T11:07:45.371773Z"
    },
    "papermill": {
     "duration": 0.071378,
     "end_time": "2024-09-29T11:07:45.375911",
     "exception": false,
     "start_time": "2024-09-29T11:07:45.304533",
     "status": "completed"
    },
    "tags": []
   },
   "outputs": [
    {
     "data": {
      "text/plain": [
       "count    1.117957e+06\n",
       "mean     5.044803e-01\n",
       "std      5.102610e-02\n",
       "min      2.850000e-01\n",
       "25%      4.700000e-01\n",
       "50%      5.050000e-01\n",
       "75%      5.400000e-01\n",
       "max      7.250000e-01\n",
       "Name: FloodProbability, dtype: float64"
      ]
     },
     "execution_count": 7,
     "metadata": {},
     "output_type": "execute_result"
    }
   ],
   "source": [
    "train['FloodProbability'].describe()"
   ]
  },
  {
   "cell_type": "markdown",
   "id": "b1bae2e8",
   "metadata": {
    "papermill": {
     "duration": 0.008322,
     "end_time": "2024-09-29T11:07:45.392428",
     "exception": false,
     "start_time": "2024-09-29T11:07:45.384106",
     "status": "completed"
    },
    "tags": []
   },
   "source": [
    "# 5/ Partition into y and X"
   ]
  },
  {
   "cell_type": "code",
   "execution_count": 8,
   "id": "02c621a8",
   "metadata": {
    "execution": {
     "iopub.execute_input": "2024-09-29T11:07:45.409861Z",
     "iopub.status.busy": "2024-09-29T11:07:45.409415Z",
     "iopub.status.idle": "2024-09-29T11:07:45.415300Z",
     "shell.execute_reply": "2024-09-29T11:07:45.413979Z"
    },
    "papermill": {
     "duration": 0.017836,
     "end_time": "2024-09-29T11:07:45.418105",
     "exception": false,
     "start_time": "2024-09-29T11:07:45.400269",
     "status": "completed"
    },
    "tags": []
   },
   "outputs": [],
   "source": [
    "selected_features = ['Deforestation','Siltation']"
   ]
  },
  {
   "cell_type": "code",
   "execution_count": 9,
   "id": "bc0341c2",
   "metadata": {
    "execution": {
     "iopub.execute_input": "2024-09-29T11:07:45.435879Z",
     "iopub.status.busy": "2024-09-29T11:07:45.435467Z",
     "iopub.status.idle": "2024-09-29T11:07:45.444184Z",
     "shell.execute_reply": "2024-09-29T11:07:45.443039Z"
    },
    "papermill": {
     "duration": 0.020766,
     "end_time": "2024-09-29T11:07:45.447016",
     "exception": false,
     "start_time": "2024-09-29T11:07:45.426250",
     "status": "completed"
    },
    "tags": []
   },
   "outputs": [],
   "source": [
    "#train\n",
    "y = train['FloodProbability']\n",
    "X = train[selected_features]"
   ]
  },
  {
   "cell_type": "code",
   "execution_count": 10,
   "id": "a39a8144",
   "metadata": {
    "execution": {
     "iopub.execute_input": "2024-09-29T11:07:45.464580Z",
     "iopub.status.busy": "2024-09-29T11:07:45.464132Z",
     "iopub.status.idle": "2024-09-29T11:07:45.474628Z",
     "shell.execute_reply": "2024-09-29T11:07:45.473513Z"
    },
    "papermill": {
     "duration": 0.022438,
     "end_time": "2024-09-29T11:07:45.477221",
     "exception": false,
     "start_time": "2024-09-29T11:07:45.454783",
     "status": "completed"
    },
    "tags": []
   },
   "outputs": [],
   "source": [
    "#test\n",
    "X_test = test[selected_features]"
   ]
  },
  {
   "cell_type": "markdown",
   "id": "d7305c39",
   "metadata": {
    "papermill": {
     "duration": 0.007586,
     "end_time": "2024-09-29T11:07:45.492494",
     "exception": false,
     "start_time": "2024-09-29T11:07:45.484908",
     "status": "completed"
    },
    "tags": []
   },
   "source": [
    "# 6/ Validation - TTS"
   ]
  },
  {
   "cell_type": "code",
   "execution_count": 11,
   "id": "41a2047f",
   "metadata": {
    "execution": {
     "iopub.execute_input": "2024-09-29T11:07:45.510251Z",
     "iopub.status.busy": "2024-09-29T11:07:45.509127Z",
     "iopub.status.idle": "2024-09-29T11:07:45.624106Z",
     "shell.execute_reply": "2024-09-29T11:07:45.622816Z"
    },
    "papermill": {
     "duration": 0.12662,
     "end_time": "2024-09-29T11:07:45.626746",
     "exception": false,
     "start_time": "2024-09-29T11:07:45.500126",
     "status": "completed"
    },
    "tags": []
   },
   "outputs": [],
   "source": [
    "X_train, X_val, y_train, y_val = train_test_split(X, y, test_size=0.2, random_state=42)"
   ]
  },
  {
   "cell_type": "code",
   "execution_count": 12,
   "id": "371eb161",
   "metadata": {
    "execution": {
     "iopub.execute_input": "2024-09-29T11:07:45.644492Z",
     "iopub.status.busy": "2024-09-29T11:07:45.643379Z",
     "iopub.status.idle": "2024-09-29T11:07:45.650431Z",
     "shell.execute_reply": "2024-09-29T11:07:45.649071Z"
    },
    "papermill": {
     "duration": 0.018637,
     "end_time": "2024-09-29T11:07:45.653070",
     "exception": false,
     "start_time": "2024-09-29T11:07:45.634433",
     "status": "completed"
    },
    "tags": []
   },
   "outputs": [
    {
     "name": "stdout",
     "output_type": "stream",
     "text": [
      "(894365, 2)\n",
      "(223592, 2)\n",
      "(894365,)\n",
      "(223592,)\n"
     ]
    }
   ],
   "source": [
    "print(X_train.shape)\n",
    "print(X_val.shape)\n",
    "print(y_train.shape)\n",
    "print(y_val.shape)"
   ]
  },
  {
   "cell_type": "markdown",
   "id": "5fb0ff77",
   "metadata": {
    "papermill": {
     "duration": 0.007448,
     "end_time": "2024-09-29T11:07:45.668273",
     "exception": false,
     "start_time": "2024-09-29T11:07:45.660825",
     "status": "completed"
    },
    "tags": []
   },
   "source": [
    "# 7/ Preprocessing"
   ]
  },
  {
   "cell_type": "markdown",
   "id": "b0b9a23f",
   "metadata": {
    "papermill": {
     "duration": 0.007332,
     "end_time": "2024-09-29T11:07:45.683485",
     "exception": false,
     "start_time": "2024-09-29T11:07:45.676153",
     "status": "completed"
    },
    "tags": []
   },
   "source": [
    "* Numerical\n",
    "* Categorical\n"
   ]
  },
  {
   "cell_type": "markdown",
   "id": "68e28dff",
   "metadata": {
    "papermill": {
     "duration": 0.007492,
     "end_time": "2024-09-29T11:07:45.698616",
     "exception": false,
     "start_time": "2024-09-29T11:07:45.691124",
     "status": "completed"
    },
    "tags": []
   },
   "source": [
    "## Numerical Transformation\n",
    "* Convert all to StandardScaler\n"
   ]
  },
  {
   "cell_type": "code",
   "execution_count": 13,
   "id": "72cae4d9",
   "metadata": {
    "execution": {
     "iopub.execute_input": "2024-09-29T11:07:45.715598Z",
     "iopub.status.busy": "2024-09-29T11:07:45.715191Z",
     "iopub.status.idle": "2024-09-29T11:07:45.761839Z",
     "shell.execute_reply": "2024-09-29T11:07:45.760787Z"
    },
    "papermill": {
     "duration": 0.058314,
     "end_time": "2024-09-29T11:07:45.764690",
     "exception": false,
     "start_time": "2024-09-29T11:07:45.706376",
     "status": "completed"
    },
    "tags": []
   },
   "outputs": [],
   "source": [
    "# 1 - Import Package\n",
    "# from sklearn.preprocessing import StandardScaler\n",
    "\n",
    "# 2 - Create an Instance\n",
    "num_scaler = StandardScaler()\n",
    "\n",
    "# 3 - Fit an Instance\n",
    "num_scaler.fit(X_train)\n",
    "\n",
    "# 4 - Transform\n",
    "X_train = num_scaler.transform(X_train)\n",
    "X_val = num_scaler.transform(X_val)\n",
    "X_test = num_scaler.transform(X_test)"
   ]
  },
  {
   "cell_type": "markdown",
   "id": "b303260f",
   "metadata": {
    "papermill": {
     "duration": 0.007229,
     "end_time": "2024-09-29T11:07:45.779776",
     "exception": false,
     "start_time": "2024-09-29T11:07:45.772547",
     "status": "completed"
    },
    "tags": []
   },
   "source": [
    "# 8/ Model Building"
   ]
  },
  {
   "cell_type": "code",
   "execution_count": 14,
   "id": "45556b9a",
   "metadata": {
    "execution": {
     "iopub.execute_input": "2024-09-29T11:07:45.797478Z",
     "iopub.status.busy": "2024-09-29T11:07:45.796284Z",
     "iopub.status.idle": "2024-09-29T11:07:45.955722Z",
     "shell.execute_reply": "2024-09-29T11:07:45.954582Z"
    },
    "papermill": {
     "duration": 0.170702,
     "end_time": "2024-09-29T11:07:45.958044",
     "exception": false,
     "start_time": "2024-09-29T11:07:45.787342",
     "status": "completed"
    },
    "tags": []
   },
   "outputs": [
    {
     "name": "stdout",
     "output_type": "stream",
     "text": [
      "[0.00946529 0.00966157]\n",
      "0.5044801786742549\n"
     ]
    }
   ],
   "source": [
    "# 1 - Import Package\n",
    "from sklearn.linear_model import LinearRegression\n",
    "\n",
    "# 2 - Create an Instance\n",
    "model = LinearRegression()\n",
    "\n",
    "# 3 - Fit an Instance\n",
    "model.fit(X_train, y_train)\n",
    "\n",
    "# 4 - Predict/Check\n",
    "print(model.coef_)\n",
    "print(model.intercept_)"
   ]
  },
  {
   "cell_type": "markdown",
   "id": "f7cd6e26",
   "metadata": {
    "papermill": {
     "duration": 0.007622,
     "end_time": "2024-09-29T11:07:45.973659",
     "exception": false,
     "start_time": "2024-09-29T11:07:45.966037",
     "status": "completed"
    },
    "tags": []
   },
   "source": [
    "# 9/ Predict"
   ]
  },
  {
   "cell_type": "code",
   "execution_count": 15,
   "id": "b1ece15b",
   "metadata": {
    "execution": {
     "iopub.execute_input": "2024-09-29T11:07:45.991078Z",
     "iopub.status.busy": "2024-09-29T11:07:45.990648Z",
     "iopub.status.idle": "2024-09-29T11:07:46.007852Z",
     "shell.execute_reply": "2024-09-29T11:07:46.006554Z"
    },
    "papermill": {
     "duration": 0.029521,
     "end_time": "2024-09-29T11:07:46.011097",
     "exception": false,
     "start_time": "2024-09-29T11:07:45.981576",
     "status": "completed"
    },
    "tags": []
   },
   "outputs": [],
   "source": [
    "y_train_prediction = model.predict(X_train)\n",
    "y_val_prediction = model.predict(X_val)\n",
    "y_test_prediction = model.predict(X_test)"
   ]
  },
  {
   "cell_type": "markdown",
   "id": "cc37ae77",
   "metadata": {
    "papermill": {
     "duration": 0.012468,
     "end_time": "2024-09-29T11:07:46.036306",
     "exception": false,
     "start_time": "2024-09-29T11:07:46.023838",
     "status": "completed"
    },
    "tags": []
   },
   "source": [
    "# 10/ Evaluation Metrics\n",
    "* Rsquared\n",
    "* RMSE\n",
    "* MSE"
   ]
  },
  {
   "cell_type": "code",
   "execution_count": 16,
   "id": "68c6251c",
   "metadata": {
    "execution": {
     "iopub.execute_input": "2024-09-29T11:07:46.064655Z",
     "iopub.status.busy": "2024-09-29T11:07:46.063160Z",
     "iopub.status.idle": "2024-09-29T11:07:46.091753Z",
     "shell.execute_reply": "2024-09-29T11:07:46.090531Z"
    },
    "papermill": {
     "duration": 0.04564,
     "end_time": "2024-09-29T11:07:46.094609",
     "exception": false,
     "start_time": "2024-09-29T11:07:46.048969",
     "status": "completed"
    },
    "tags": []
   },
   "outputs": [
    {
     "name": "stdout",
     "output_type": "stream",
     "text": [
      "train metrics\n",
      "MSE : 0.0024238600999434766\n",
      "RMSE : 0.0492327137170345\n",
      "val metrics\n",
      "MSE : 0.002417459921773398\n",
      "RMSE : 0.04916767151059116\n"
     ]
    }
   ],
   "source": [
    "from sklearn.metrics import mean_squared_error\n",
    "\n",
    "print('train metrics')\n",
    "print('MSE :', mean_squared_error(y_train, y_train_prediction))\n",
    "print('RMSE :',mean_squared_error(y_train, y_train_prediction, squared = False))\n",
    "\n",
    "print('val metrics')\n",
    "print('MSE :',mean_squared_error(y_val, y_val_prediction))\n",
    "print('RMSE :',mean_squared_error(y_val, y_val_prediction, squared = False))"
   ]
  }
 ],
 "metadata": {
  "kaggle": {
   "accelerator": "none",
   "dataSources": [
    {
     "databundleVersionId": 8121328,
     "sourceId": 73278,
     "sourceType": "competition"
    }
   ],
   "dockerImageVersionId": 30775,
   "isGpuEnabled": false,
   "isInternetEnabled": false,
   "language": "python",
   "sourceType": "notebook"
  },
  "kernelspec": {
   "display_name": "Python 3",
   "language": "python",
   "name": "python3"
  },
  "language_info": {
   "codemirror_mode": {
    "name": "ipython",
    "version": 3
   },
   "file_extension": ".py",
   "mimetype": "text/x-python",
   "name": "python",
   "nbconvert_exporter": "python",
   "pygments_lexer": "ipython3",
   "version": "3.10.14"
  },
  "papermill": {
   "default_parameters": {},
   "duration": 11.155782,
   "end_time": "2024-09-29T11:07:46.734077",
   "environment_variables": {},
   "exception": null,
   "input_path": "__notebook__.ipynb",
   "output_path": "__notebook__.ipynb",
   "parameters": {},
   "start_time": "2024-09-29T11:07:35.578295",
   "version": "2.6.0"
  }
 },
 "nbformat": 4,
 "nbformat_minor": 5
}
