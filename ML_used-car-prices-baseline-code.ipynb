{
 "cells": [
  {
   "cell_type": "markdown",
   "id": "d0dc597a",
   "metadata": {
    "papermill": {
     "duration": 0.007401,
     "end_time": "2024-09-29T11:03:14.592979",
     "exception": false,
     "start_time": "2024-09-29T11:03:14.585578",
     "status": "completed"
    },
    "tags": []
   },
   "source": [
    "### Baseline Flow\n",
    "1. Import packages\n",
    "2. Import Data\n",
    "3. Check Data \n",
    "4. Check Target Feature\n",
    "5. Partition Data into Y and X (Choose Features)\n",
    "6. Validation Data - Train Test Split\n",
    "7. Preprocessing (as many steps)\n",
    "8. Model\n",
    "9. Make Predictions\n",
    "10. Evalute metrics\n",
    "11. Export Predictions"
   ]
  },
  {
   "cell_type": "markdown",
   "id": "856f434d",
   "metadata": {
    "papermill": {
     "duration": 0.006582,
     "end_time": "2024-09-29T11:03:14.606316",
     "exception": false,
     "start_time": "2024-09-29T11:03:14.599734",
     "status": "completed"
    },
    "tags": []
   },
   "source": [
    "# **1/ Import Packages**"
   ]
  },
  {
   "cell_type": "code",
   "execution_count": 1,
   "id": "8cb254d1",
   "metadata": {
    "_cell_guid": "b1076dfc-b9ad-4769-8c92-a6c4dae69d19",
    "_uuid": "8f2839f25d086af736a60e9eeb907d3b93b6e0e5",
    "execution": {
     "iopub.execute_input": "2024-09-29T11:03:14.621137Z",
     "iopub.status.busy": "2024-09-29T11:03:14.620585Z",
     "iopub.status.idle": "2024-09-29T11:03:17.274054Z",
     "shell.execute_reply": "2024-09-29T11:03:17.272485Z"
    },
    "papermill": {
     "duration": 2.664068,
     "end_time": "2024-09-29T11:03:17.276756",
     "exception": false,
     "start_time": "2024-09-29T11:03:14.612688",
     "status": "completed"
    },
    "tags": []
   },
   "outputs": [
    {
     "name": "stdout",
     "output_type": "stream",
     "text": [
      "/kaggle/input/playground-series-s4e9/sample_submission.csv\n",
      "/kaggle/input/playground-series-s4e9/train.csv\n",
      "/kaggle/input/playground-series-s4e9/test.csv\n"
     ]
    }
   ],
   "source": [
    "import numpy as np # linear algebra\n",
    "import pandas as pd # data processing, CSV file I/O (e.g. pd.read_csv)\n",
    "from sklearn.model_selection import train_test_split\n",
    "\n",
    "from sklearn.preprocessing import StandardScaler\n",
    "\n",
    "from sklearn.linear_model import LinearRegression\n",
    "\n",
    "import os\n",
    "for dirname, _, filenames in os.walk('/kaggle/input'):\n",
    "    for filename in filenames:\n",
    "        print(os.path.join(dirname, filename))\n"
   ]
  },
  {
   "cell_type": "markdown",
   "id": "38d7d15b",
   "metadata": {
    "papermill": {
     "duration": 0.006326,
     "end_time": "2024-09-29T11:03:17.289812",
     "exception": false,
     "start_time": "2024-09-29T11:03:17.283486",
     "status": "completed"
    },
    "tags": []
   },
   "source": []
  },
  {
   "cell_type": "markdown",
   "id": "0d5abe93",
   "metadata": {
    "papermill": {
     "duration": 0.007147,
     "end_time": "2024-09-29T11:03:17.303502",
     "exception": false,
     "start_time": "2024-09-29T11:03:17.296355",
     "status": "completed"
    },
    "tags": []
   },
   "source": [
    "# 2/ Import Data\n"
   ]
  },
  {
   "cell_type": "code",
   "execution_count": 2,
   "id": "f2dd1d4e",
   "metadata": {
    "execution": {
     "iopub.execute_input": "2024-09-29T11:03:17.319619Z",
     "iopub.status.busy": "2024-09-29T11:03:17.318413Z",
     "iopub.status.idle": "2024-09-29T11:03:18.683503Z",
     "shell.execute_reply": "2024-09-29T11:03:18.682374Z"
    },
    "papermill": {
     "duration": 1.376272,
     "end_time": "2024-09-29T11:03:18.686274",
     "exception": false,
     "start_time": "2024-09-29T11:03:17.310002",
     "status": "completed"
    },
    "tags": []
   },
   "outputs": [],
   "source": [
    "train = pd.read_csv('/kaggle/input/playground-series-s4e9/train.csv')\n",
    "test = pd.read_csv('/kaggle/input/playground-series-s4e9/test.csv')"
   ]
  },
  {
   "cell_type": "markdown",
   "id": "0270e631",
   "metadata": {
    "papermill": {
     "duration": 0.006464,
     "end_time": "2024-09-29T11:03:18.699241",
     "exception": false,
     "start_time": "2024-09-29T11:03:18.692777",
     "status": "completed"
    },
    "tags": []
   },
   "source": [
    "# 3/ Check Data"
   ]
  },
  {
   "cell_type": "markdown",
   "id": "aaa97e6a",
   "metadata": {
    "papermill": {
     "duration": 0.007017,
     "end_time": "2024-09-29T11:03:18.713086",
     "exception": false,
     "start_time": "2024-09-29T11:03:18.706069",
     "status": "completed"
    },
    "tags": []
   },
   "source": [
    "1. 5 rows\n",
    "2. Check names with data type\n",
    "3. Descriptive Stats\n",
    "4. Target Feature"
   ]
  },
  {
   "cell_type": "code",
   "execution_count": 3,
   "id": "07175323",
   "metadata": {
    "execution": {
     "iopub.execute_input": "2024-09-29T11:03:18.728042Z",
     "iopub.status.busy": "2024-09-29T11:03:18.727610Z",
     "iopub.status.idle": "2024-09-29T11:03:18.755480Z",
     "shell.execute_reply": "2024-09-29T11:03:18.754013Z"
    },
    "papermill": {
     "duration": 0.038178,
     "end_time": "2024-09-29T11:03:18.758007",
     "exception": false,
     "start_time": "2024-09-29T11:03:18.719829",
     "status": "completed"
    },
    "tags": []
   },
   "outputs": [
    {
     "data": {
      "text/html": [
       "<div>\n",
       "<style scoped>\n",
       "    .dataframe tbody tr th:only-of-type {\n",
       "        vertical-align: middle;\n",
       "    }\n",
       "\n",
       "    .dataframe tbody tr th {\n",
       "        vertical-align: top;\n",
       "    }\n",
       "\n",
       "    .dataframe thead th {\n",
       "        text-align: right;\n",
       "    }\n",
       "</style>\n",
       "<table border=\"1\" class=\"dataframe\">\n",
       "  <thead>\n",
       "    <tr style=\"text-align: right;\">\n",
       "      <th></th>\n",
       "      <th>id</th>\n",
       "      <th>brand</th>\n",
       "      <th>model</th>\n",
       "      <th>model_year</th>\n",
       "      <th>milage</th>\n",
       "      <th>fuel_type</th>\n",
       "      <th>engine</th>\n",
       "      <th>transmission</th>\n",
       "      <th>ext_col</th>\n",
       "      <th>int_col</th>\n",
       "      <th>accident</th>\n",
       "      <th>clean_title</th>\n",
       "      <th>price</th>\n",
       "    </tr>\n",
       "  </thead>\n",
       "  <tbody>\n",
       "    <tr>\n",
       "      <th>0</th>\n",
       "      <td>0</td>\n",
       "      <td>MINI</td>\n",
       "      <td>Cooper S Base</td>\n",
       "      <td>2007</td>\n",
       "      <td>213000</td>\n",
       "      <td>Gasoline</td>\n",
       "      <td>172.0HP 1.6L 4 Cylinder Engine Gasoline Fuel</td>\n",
       "      <td>A/T</td>\n",
       "      <td>Yellow</td>\n",
       "      <td>Gray</td>\n",
       "      <td>None reported</td>\n",
       "      <td>Yes</td>\n",
       "      <td>4200</td>\n",
       "    </tr>\n",
       "    <tr>\n",
       "      <th>1</th>\n",
       "      <td>1</td>\n",
       "      <td>Lincoln</td>\n",
       "      <td>LS V8</td>\n",
       "      <td>2002</td>\n",
       "      <td>143250</td>\n",
       "      <td>Gasoline</td>\n",
       "      <td>252.0HP 3.9L 8 Cylinder Engine Gasoline Fuel</td>\n",
       "      <td>A/T</td>\n",
       "      <td>Silver</td>\n",
       "      <td>Beige</td>\n",
       "      <td>At least 1 accident or damage reported</td>\n",
       "      <td>Yes</td>\n",
       "      <td>4999</td>\n",
       "    </tr>\n",
       "    <tr>\n",
       "      <th>2</th>\n",
       "      <td>2</td>\n",
       "      <td>Chevrolet</td>\n",
       "      <td>Silverado 2500 LT</td>\n",
       "      <td>2002</td>\n",
       "      <td>136731</td>\n",
       "      <td>E85 Flex Fuel</td>\n",
       "      <td>320.0HP 5.3L 8 Cylinder Engine Flex Fuel Capab...</td>\n",
       "      <td>A/T</td>\n",
       "      <td>Blue</td>\n",
       "      <td>Gray</td>\n",
       "      <td>None reported</td>\n",
       "      <td>Yes</td>\n",
       "      <td>13900</td>\n",
       "    </tr>\n",
       "    <tr>\n",
       "      <th>3</th>\n",
       "      <td>3</td>\n",
       "      <td>Genesis</td>\n",
       "      <td>G90 5.0 Ultimate</td>\n",
       "      <td>2017</td>\n",
       "      <td>19500</td>\n",
       "      <td>Gasoline</td>\n",
       "      <td>420.0HP 5.0L 8 Cylinder Engine Gasoline Fuel</td>\n",
       "      <td>Transmission w/Dual Shift Mode</td>\n",
       "      <td>Black</td>\n",
       "      <td>Black</td>\n",
       "      <td>None reported</td>\n",
       "      <td>Yes</td>\n",
       "      <td>45000</td>\n",
       "    </tr>\n",
       "    <tr>\n",
       "      <th>4</th>\n",
       "      <td>4</td>\n",
       "      <td>Mercedes-Benz</td>\n",
       "      <td>Metris Base</td>\n",
       "      <td>2021</td>\n",
       "      <td>7388</td>\n",
       "      <td>Gasoline</td>\n",
       "      <td>208.0HP 2.0L 4 Cylinder Engine Gasoline Fuel</td>\n",
       "      <td>7-Speed A/T</td>\n",
       "      <td>Black</td>\n",
       "      <td>Beige</td>\n",
       "      <td>None reported</td>\n",
       "      <td>Yes</td>\n",
       "      <td>97500</td>\n",
       "    </tr>\n",
       "  </tbody>\n",
       "</table>\n",
       "</div>"
      ],
      "text/plain": [
       "   id          brand              model  model_year  milage      fuel_type  \\\n",
       "0   0           MINI      Cooper S Base        2007  213000       Gasoline   \n",
       "1   1        Lincoln              LS V8        2002  143250       Gasoline   \n",
       "2   2      Chevrolet  Silverado 2500 LT        2002  136731  E85 Flex Fuel   \n",
       "3   3        Genesis   G90 5.0 Ultimate        2017   19500       Gasoline   \n",
       "4   4  Mercedes-Benz        Metris Base        2021    7388       Gasoline   \n",
       "\n",
       "                                              engine  \\\n",
       "0       172.0HP 1.6L 4 Cylinder Engine Gasoline Fuel   \n",
       "1       252.0HP 3.9L 8 Cylinder Engine Gasoline Fuel   \n",
       "2  320.0HP 5.3L 8 Cylinder Engine Flex Fuel Capab...   \n",
       "3       420.0HP 5.0L 8 Cylinder Engine Gasoline Fuel   \n",
       "4       208.0HP 2.0L 4 Cylinder Engine Gasoline Fuel   \n",
       "\n",
       "                     transmission ext_col int_col  \\\n",
       "0                             A/T  Yellow    Gray   \n",
       "1                             A/T  Silver   Beige   \n",
       "2                             A/T    Blue    Gray   \n",
       "3  Transmission w/Dual Shift Mode   Black   Black   \n",
       "4                     7-Speed A/T   Black   Beige   \n",
       "\n",
       "                                 accident clean_title  price  \n",
       "0                           None reported         Yes   4200  \n",
       "1  At least 1 accident or damage reported         Yes   4999  \n",
       "2                           None reported         Yes  13900  \n",
       "3                           None reported         Yes  45000  \n",
       "4                           None reported         Yes  97500  "
      ]
     },
     "execution_count": 3,
     "metadata": {},
     "output_type": "execute_result"
    }
   ],
   "source": [
    "train.head()"
   ]
  },
  {
   "cell_type": "code",
   "execution_count": 4,
   "id": "0aa46d3c",
   "metadata": {
    "execution": {
     "iopub.execute_input": "2024-09-29T11:03:18.774021Z",
     "iopub.status.busy": "2024-09-29T11:03:18.773608Z",
     "iopub.status.idle": "2024-09-29T11:03:18.881557Z",
     "shell.execute_reply": "2024-09-29T11:03:18.880115Z"
    },
    "papermill": {
     "duration": 0.118893,
     "end_time": "2024-09-29T11:03:18.884250",
     "exception": false,
     "start_time": "2024-09-29T11:03:18.765357",
     "status": "completed"
    },
    "tags": []
   },
   "outputs": [
    {
     "name": "stdout",
     "output_type": "stream",
     "text": [
      "<class 'pandas.core.frame.DataFrame'>\n",
      "RangeIndex: 188533 entries, 0 to 188532\n",
      "Data columns (total 13 columns):\n",
      " #   Column        Non-Null Count   Dtype \n",
      "---  ------        --------------   ----- \n",
      " 0   id            188533 non-null  int64 \n",
      " 1   brand         188533 non-null  object\n",
      " 2   model         188533 non-null  object\n",
      " 3   model_year    188533 non-null  int64 \n",
      " 4   milage        188533 non-null  int64 \n",
      " 5   fuel_type     183450 non-null  object\n",
      " 6   engine        188533 non-null  object\n",
      " 7   transmission  188533 non-null  object\n",
      " 8   ext_col       188533 non-null  object\n",
      " 9   int_col       188533 non-null  object\n",
      " 10  accident      186081 non-null  object\n",
      " 11  clean_title   167114 non-null  object\n",
      " 12  price         188533 non-null  int64 \n",
      "dtypes: int64(4), object(9)\n",
      "memory usage: 18.7+ MB\n"
     ]
    }
   ],
   "source": [
    "train.info()"
   ]
  },
  {
   "cell_type": "code",
   "execution_count": 5,
   "id": "f0d4a96d",
   "metadata": {
    "execution": {
     "iopub.execute_input": "2024-09-29T11:03:18.900169Z",
     "iopub.status.busy": "2024-09-29T11:03:18.899219Z",
     "iopub.status.idle": "2024-09-29T11:03:18.916153Z",
     "shell.execute_reply": "2024-09-29T11:03:18.914459Z"
    },
    "papermill": {
     "duration": 0.027627,
     "end_time": "2024-09-29T11:03:18.918789",
     "exception": false,
     "start_time": "2024-09-29T11:03:18.891162",
     "status": "completed"
    },
    "tags": []
   },
   "outputs": [
    {
     "data": {
      "text/html": [
       "<div>\n",
       "<style scoped>\n",
       "    .dataframe tbody tr th:only-of-type {\n",
       "        vertical-align: middle;\n",
       "    }\n",
       "\n",
       "    .dataframe tbody tr th {\n",
       "        vertical-align: top;\n",
       "    }\n",
       "\n",
       "    .dataframe thead th {\n",
       "        text-align: right;\n",
       "    }\n",
       "</style>\n",
       "<table border=\"1\" class=\"dataframe\">\n",
       "  <thead>\n",
       "    <tr style=\"text-align: right;\">\n",
       "      <th></th>\n",
       "      <th>id</th>\n",
       "      <th>brand</th>\n",
       "      <th>model</th>\n",
       "      <th>model_year</th>\n",
       "      <th>milage</th>\n",
       "      <th>fuel_type</th>\n",
       "      <th>engine</th>\n",
       "      <th>transmission</th>\n",
       "      <th>ext_col</th>\n",
       "      <th>int_col</th>\n",
       "      <th>accident</th>\n",
       "      <th>clean_title</th>\n",
       "    </tr>\n",
       "  </thead>\n",
       "  <tbody>\n",
       "    <tr>\n",
       "      <th>0</th>\n",
       "      <td>188533</td>\n",
       "      <td>Land</td>\n",
       "      <td>Rover LR2 Base</td>\n",
       "      <td>2015</td>\n",
       "      <td>98000</td>\n",
       "      <td>Gasoline</td>\n",
       "      <td>240.0HP 2.0L 4 Cylinder Engine Gasoline Fuel</td>\n",
       "      <td>6-Speed A/T</td>\n",
       "      <td>White</td>\n",
       "      <td>Beige</td>\n",
       "      <td>None reported</td>\n",
       "      <td>Yes</td>\n",
       "    </tr>\n",
       "    <tr>\n",
       "      <th>1</th>\n",
       "      <td>188534</td>\n",
       "      <td>Land</td>\n",
       "      <td>Rover Defender SE</td>\n",
       "      <td>2020</td>\n",
       "      <td>9142</td>\n",
       "      <td>Hybrid</td>\n",
       "      <td>395.0HP 3.0L Straight 6 Cylinder Engine Gasoli...</td>\n",
       "      <td>8-Speed A/T</td>\n",
       "      <td>Silver</td>\n",
       "      <td>Black</td>\n",
       "      <td>None reported</td>\n",
       "      <td>Yes</td>\n",
       "    </tr>\n",
       "    <tr>\n",
       "      <th>2</th>\n",
       "      <td>188535</td>\n",
       "      <td>Ford</td>\n",
       "      <td>Expedition Limited</td>\n",
       "      <td>2022</td>\n",
       "      <td>28121</td>\n",
       "      <td>Gasoline</td>\n",
       "      <td>3.5L V6 24V PDI DOHC Twin Turbo</td>\n",
       "      <td>10-Speed Automatic</td>\n",
       "      <td>White</td>\n",
       "      <td>Ebony</td>\n",
       "      <td>None reported</td>\n",
       "      <td>NaN</td>\n",
       "    </tr>\n",
       "    <tr>\n",
       "      <th>3</th>\n",
       "      <td>188536</td>\n",
       "      <td>Audi</td>\n",
       "      <td>A6 2.0T Sport</td>\n",
       "      <td>2016</td>\n",
       "      <td>61258</td>\n",
       "      <td>Gasoline</td>\n",
       "      <td>2.0 Liter TFSI</td>\n",
       "      <td>Automatic</td>\n",
       "      <td>Silician Yellow</td>\n",
       "      <td>Black</td>\n",
       "      <td>None reported</td>\n",
       "      <td>NaN</td>\n",
       "    </tr>\n",
       "    <tr>\n",
       "      <th>4</th>\n",
       "      <td>188537</td>\n",
       "      <td>Audi</td>\n",
       "      <td>A6 2.0T Premium Plus</td>\n",
       "      <td>2018</td>\n",
       "      <td>59000</td>\n",
       "      <td>Gasoline</td>\n",
       "      <td>252.0HP 2.0L 4 Cylinder Engine Gasoline Fuel</td>\n",
       "      <td>A/T</td>\n",
       "      <td>Gray</td>\n",
       "      <td>Black</td>\n",
       "      <td>None reported</td>\n",
       "      <td>Yes</td>\n",
       "    </tr>\n",
       "  </tbody>\n",
       "</table>\n",
       "</div>"
      ],
      "text/plain": [
       "       id brand                 model  model_year  milage fuel_type  \\\n",
       "0  188533  Land        Rover LR2 Base        2015   98000  Gasoline   \n",
       "1  188534  Land     Rover Defender SE        2020    9142    Hybrid   \n",
       "2  188535  Ford    Expedition Limited        2022   28121  Gasoline   \n",
       "3  188536  Audi         A6 2.0T Sport        2016   61258  Gasoline   \n",
       "4  188537  Audi  A6 2.0T Premium Plus        2018   59000  Gasoline   \n",
       "\n",
       "                                              engine        transmission  \\\n",
       "0       240.0HP 2.0L 4 Cylinder Engine Gasoline Fuel         6-Speed A/T   \n",
       "1  395.0HP 3.0L Straight 6 Cylinder Engine Gasoli...         8-Speed A/T   \n",
       "2                    3.5L V6 24V PDI DOHC Twin Turbo  10-Speed Automatic   \n",
       "3                                     2.0 Liter TFSI           Automatic   \n",
       "4       252.0HP 2.0L 4 Cylinder Engine Gasoline Fuel                 A/T   \n",
       "\n",
       "           ext_col int_col       accident clean_title  \n",
       "0            White   Beige  None reported         Yes  \n",
       "1           Silver   Black  None reported         Yes  \n",
       "2            White   Ebony  None reported         NaN  \n",
       "3  Silician Yellow   Black  None reported         NaN  \n",
       "4             Gray   Black  None reported         Yes  "
      ]
     },
     "execution_count": 5,
     "metadata": {},
     "output_type": "execute_result"
    }
   ],
   "source": [
    "test.head()"
   ]
  },
  {
   "cell_type": "markdown",
   "id": "c8f402f1",
   "metadata": {
    "papermill": {
     "duration": 0.006834,
     "end_time": "2024-09-29T11:03:18.933042",
     "exception": false,
     "start_time": "2024-09-29T11:03:18.926208",
     "status": "completed"
    },
    "tags": []
   },
   "source": [
    "# 4/ Check Target Feature"
   ]
  },
  {
   "cell_type": "code",
   "execution_count": 6,
   "id": "c51c6237",
   "metadata": {
    "execution": {
     "iopub.execute_input": "2024-09-29T11:03:18.950305Z",
     "iopub.status.busy": "2024-09-29T11:03:18.949887Z",
     "iopub.status.idle": "2024-09-29T11:03:19.280132Z",
     "shell.execute_reply": "2024-09-29T11:03:19.278920Z"
    },
    "papermill": {
     "duration": 0.342372,
     "end_time": "2024-09-29T11:03:19.282703",
     "exception": false,
     "start_time": "2024-09-29T11:03:18.940331",
     "status": "completed"
    },
    "tags": []
   },
   "outputs": [
    {
     "data": {
      "text/plain": [
       "<Axes: ylabel='Frequency'>"
      ]
     },
     "execution_count": 6,
     "metadata": {},
     "output_type": "execute_result"
    },
    {
     "data": {
      "image/png": "[encoded data removed]",
      "text/plain": [
       "<Figure size 640x480 with 1 Axes>"
      ]
     },
     "metadata": {},
     "output_type": "display_data"
    }
   ],
   "source": [
    "train['price'].plot.hist()"
   ]
  },
  {
   "cell_type": "code",
   "execution_count": 7,
   "id": "29cb08d7",
   "metadata": {
    "execution": {
     "iopub.execute_input": "2024-09-29T11:03:19.300423Z",
     "iopub.status.busy": "2024-09-29T11:03:19.299971Z",
     "iopub.status.idle": "2024-09-29T11:03:19.318620Z",
     "shell.execute_reply": "2024-09-29T11:03:19.317460Z"
    },
    "papermill": {
     "duration": 0.030933,
     "end_time": "2024-09-29T11:03:19.321409",
     "exception": false,
     "start_time": "2024-09-29T11:03:19.290476",
     "status": "completed"
    },
    "tags": []
   },
   "outputs": [
    {
     "data": {
      "text/plain": [
       "count    1.885330e+05\n",
       "mean     4.387802e+04\n",
       "std      7.881952e+04\n",
       "min      2.000000e+03\n",
       "25%      1.700000e+04\n",
       "50%      3.082500e+04\n",
       "75%      4.990000e+04\n",
       "max      2.954083e+06\n",
       "Name: price, dtype: float64"
      ]
     },
     "execution_count": 7,
     "metadata": {},
     "output_type": "execute_result"
    }
   ],
   "source": [
    "train['price'].describe()"
   ]
  },
  {
   "cell_type": "markdown",
   "id": "3100e80d",
   "metadata": {
    "papermill": {
     "duration": 0.007812,
     "end_time": "2024-09-29T11:03:19.337118",
     "exception": false,
     "start_time": "2024-09-29T11:03:19.329306",
     "status": "completed"
    },
    "tags": []
   },
   "source": [
    "# 5/ Partition into y and X"
   ]
  },
  {
   "cell_type": "code",
   "execution_count": 8,
   "id": "baec004e",
   "metadata": {
    "execution": {
     "iopub.execute_input": "2024-09-29T11:03:19.354323Z",
     "iopub.status.busy": "2024-09-29T11:03:19.353863Z",
     "iopub.status.idle": "2024-09-29T11:03:19.358960Z",
     "shell.execute_reply": "2024-09-29T11:03:19.357835Z"
    },
    "papermill": {
     "duration": 0.01651,
     "end_time": "2024-09-29T11:03:19.361296",
     "exception": false,
     "start_time": "2024-09-29T11:03:19.344786",
     "status": "completed"
    },
    "tags": []
   },
   "outputs": [],
   "source": [
    "selected_features = ['model_year','milage']"
   ]
  },
  {
   "cell_type": "code",
   "execution_count": 9,
   "id": "ae13431d",
   "metadata": {
    "execution": {
     "iopub.execute_input": "2024-09-29T11:03:19.378930Z",
     "iopub.status.busy": "2024-09-29T11:03:19.378520Z",
     "iopub.status.idle": "2024-09-29T11:03:19.385441Z",
     "shell.execute_reply": "2024-09-29T11:03:19.384281Z"
    },
    "papermill": {
     "duration": 0.018696,
     "end_time": "2024-09-29T11:03:19.387776",
     "exception": false,
     "start_time": "2024-09-29T11:03:19.369080",
     "status": "completed"
    },
    "tags": []
   },
   "outputs": [],
   "source": [
    "#train\n",
    "y = train['price']\n",
    "X = train[selected_features]"
   ]
  },
  {
   "cell_type": "code",
   "execution_count": 10,
   "id": "f7a0d786",
   "metadata": {
    "execution": {
     "iopub.execute_input": "2024-09-29T11:03:19.405320Z",
     "iopub.status.busy": "2024-09-29T11:03:19.404717Z",
     "iopub.status.idle": "2024-09-29T11:03:19.411619Z",
     "shell.execute_reply": "2024-09-29T11:03:19.410428Z"
    },
    "papermill": {
     "duration": 0.018682,
     "end_time": "2024-09-29T11:03:19.414187",
     "exception": false,
     "start_time": "2024-09-29T11:03:19.395505",
     "status": "completed"
    },
    "tags": []
   },
   "outputs": [],
   "source": [
    "#test\n",
    "X_test = test[selected_features]"
   ]
  },
  {
   "cell_type": "markdown",
   "id": "0199eb53",
   "metadata": {
    "papermill": {
     "duration": 0.007473,
     "end_time": "2024-09-29T11:03:19.429857",
     "exception": false,
     "start_time": "2024-09-29T11:03:19.422384",
     "status": "completed"
    },
    "tags": []
   },
   "source": [
    "# 6/ Validation - TTS"
   ]
  },
  {
   "cell_type": "code",
   "execution_count": 11,
   "id": "65f4e988",
   "metadata": {
    "execution": {
     "iopub.execute_input": "2024-09-29T11:03:19.447521Z",
     "iopub.status.busy": "2024-09-29T11:03:19.447086Z",
     "iopub.status.idle": "2024-09-29T11:03:19.468614Z",
     "shell.execute_reply": "2024-09-29T11:03:19.467455Z"
    },
    "papermill": {
     "duration": 0.033196,
     "end_time": "2024-09-29T11:03:19.471362",
     "exception": false,
     "start_time": "2024-09-29T11:03:19.438166",
     "status": "completed"
    },
    "tags": []
   },
   "outputs": [],
   "source": [
    "X_train, X_val, y_train, y_val = train_test_split(X, y, test_size=0.2, random_state=42)"
   ]
  },
  {
   "cell_type": "code",
   "execution_count": 12,
   "id": "19e302b1",
   "metadata": {
    "execution": {
     "iopub.execute_input": "2024-09-29T11:03:19.489499Z",
     "iopub.status.busy": "2024-09-29T11:03:19.489091Z",
     "iopub.status.idle": "2024-09-29T11:03:19.495407Z",
     "shell.execute_reply": "2024-09-29T11:03:19.494259Z"
    },
    "papermill": {
     "duration": 0.018668,
     "end_time": "2024-09-29T11:03:19.498196",
     "exception": false,
     "start_time": "2024-09-29T11:03:19.479528",
     "status": "completed"
    },
    "tags": []
   },
   "outputs": [
    {
     "name": "stdout",
     "output_type": "stream",
     "text": [
      "(150826, 2)\n",
      "(37707, 2)\n",
      "(150826,)\n",
      "(37707,)\n"
     ]
    }
   ],
   "source": [
    "print(X_train.shape)\n",
    "print(X_val.shape)\n",
    "print(y_train.shape)\n",
    "print(y_val.shape)"
   ]
  },
  {
   "cell_type": "markdown",
   "id": "881c6ec3",
   "metadata": {
    "papermill": {
     "duration": 0.007805,
     "end_time": "2024-09-29T11:03:19.513995",
     "exception": false,
     "start_time": "2024-09-29T11:03:19.506190",
     "status": "completed"
    },
    "tags": []
   },
   "source": [
    "# 7/ Preprocessing"
   ]
  },
  {
   "cell_type": "markdown",
   "id": "ba132381",
   "metadata": {
    "papermill": {
     "duration": 0.007515,
     "end_time": "2024-09-29T11:03:19.529485",
     "exception": false,
     "start_time": "2024-09-29T11:03:19.521970",
     "status": "completed"
    },
    "tags": []
   },
   "source": [
    "* Numerical\n",
    "* Categorical\n"
   ]
  },
  {
   "cell_type": "markdown",
   "id": "409c7971",
   "metadata": {
    "papermill": {
     "duration": 0.007416,
     "end_time": "2024-09-29T11:03:19.544579",
     "exception": false,
     "start_time": "2024-09-29T11:03:19.537163",
     "status": "completed"
    },
    "tags": []
   },
   "source": [
    "## Numerical Transformation\n",
    "* Convert all to StandardScaler\n"
   ]
  },
  {
   "cell_type": "code",
   "execution_count": 13,
   "id": "9fa651c6",
   "metadata": {
    "execution": {
     "iopub.execute_input": "2024-09-29T11:03:19.561684Z",
     "iopub.status.busy": "2024-09-29T11:03:19.561255Z",
     "iopub.status.idle": "2024-09-29T11:03:19.580694Z",
     "shell.execute_reply": "2024-09-29T11:03:19.579480Z"
    },
    "papermill": {
     "duration": 0.031032,
     "end_time": "2024-09-29T11:03:19.583285",
     "exception": false,
     "start_time": "2024-09-29T11:03:19.552253",
     "status": "completed"
    },
    "tags": []
   },
   "outputs": [],
   "source": [
    "# 1 - Import Package\n",
    "# from sklearn.preprocessing import StandardScaler\n",
    "\n",
    "# 2 - Create an Instance\n",
    "num_scaler = StandardScaler()\n",
    "\n",
    "# 3 - Fit an Instance\n",
    "num_scaler.fit(X_train)\n",
    "\n",
    "# 4 - Transform\n",
    "X_train = num_scaler.transform(X_train)\n",
    "X_val = num_scaler.transform(X_val)\n",
    "X_test = num_scaler.transform(X_test)"
   ]
  },
  {
   "cell_type": "markdown",
   "id": "5ea62a8c",
   "metadata": {
    "papermill": {
     "duration": 0.007453,
     "end_time": "2024-09-29T11:03:19.598998",
     "exception": false,
     "start_time": "2024-09-29T11:03:19.591545",
     "status": "completed"
    },
    "tags": []
   },
   "source": [
    "# 8/ Model Building"
   ]
  },
  {
   "cell_type": "code",
   "execution_count": 14,
   "id": "b1ce481a",
   "metadata": {
    "execution": {
     "iopub.execute_input": "2024-09-29T11:03:19.619198Z",
     "iopub.status.busy": "2024-09-29T11:03:19.617997Z",
     "iopub.status.idle": "2024-09-29T11:03:19.664526Z",
     "shell.execute_reply": "2024-09-29T11:03:19.663062Z"
    },
    "papermill": {
     "duration": 0.059145,
     "end_time": "2024-09-29T11:03:19.667123",
     "exception": false,
     "start_time": "2024-09-29T11:03:19.607978",
     "status": "completed"
    },
    "tags": []
   },
   "outputs": [
    {
     "name": "stdout",
     "output_type": "stream",
     "text": [
      "[  5743.38622618 -18530.9456067 ]\n",
      "43890.785315529116\n"
     ]
    }
   ],
   "source": [
    "# 1 - Import Package\n",
    "from sklearn.linear_model import LinearRegression\n",
    "\n",
    "# 2 - Create an Instance\n",
    "model = LinearRegression()\n",
    "\n",
    "# 3 - Fit an Instance\n",
    "model.fit(X_train, y_train)\n",
    "\n",
    "# 4 - Predict/Check\n",
    "print(model.coef_)\n",
    "print(model.intercept_)"
   ]
  },
  {
   "cell_type": "markdown",
   "id": "027649f6",
   "metadata": {
    "papermill": {
     "duration": 0.007581,
     "end_time": "2024-09-29T11:03:19.682884",
     "exception": false,
     "start_time": "2024-09-29T11:03:19.675303",
     "status": "completed"
    },
    "tags": []
   },
   "source": [
    "# 9/ Predict"
   ]
  },
  {
   "cell_type": "code",
   "execution_count": 15,
   "id": "a6c15285",
   "metadata": {
    "execution": {
     "iopub.execute_input": "2024-09-29T11:03:19.700427Z",
     "iopub.status.busy": "2024-09-29T11:03:19.699968Z",
     "iopub.status.idle": "2024-09-29T11:03:19.711232Z",
     "shell.execute_reply": "2024-09-29T11:03:19.709858Z"
    },
    "papermill": {
     "duration": 0.02491,
     "end_time": "2024-09-29T11:03:19.715645",
     "exception": false,
     "start_time": "2024-09-29T11:03:19.690735",
     "status": "completed"
    },
    "tags": []
   },
   "outputs": [],
   "source": [
    "y_train_prediction = model.predict(X_train)\n",
    "y_val_prediction = model.predict(X_val)\n",
    "y_test_prediction = model.predict(X_test)"
   ]
  },
  {
   "cell_type": "markdown",
   "id": "fd2b611b",
   "metadata": {
    "papermill": {
     "duration": 0.013165,
     "end_time": "2024-09-29T11:03:19.742559",
     "exception": false,
     "start_time": "2024-09-29T11:03:19.729394",
     "status": "completed"
    },
    "tags": []
   },
   "source": [
    "# 10/ Evaluation Metrics\n",
    "* Rsquared\n",
    "* RMSE\n",
    "* MSE"
   ]
  },
  {
   "cell_type": "code",
   "execution_count": 16,
   "id": "82afa0fd",
   "metadata": {
    "execution": {
     "iopub.execute_input": "2024-09-29T11:03:19.772364Z",
     "iopub.status.busy": "2024-09-29T11:03:19.771592Z",
     "iopub.status.idle": "2024-09-29T11:03:19.793558Z",
     "shell.execute_reply": "2024-09-29T11:03:19.791865Z"
    },
    "papermill": {
     "duration": 0.041512,
     "end_time": "2024-09-29T11:03:19.797769",
     "exception": false,
     "start_time": "2024-09-29T11:03:19.756257",
     "status": "completed"
    },
    "tags": []
   },
   "outputs": [
    {
     "name": "stdout",
     "output_type": "stream",
     "text": [
      "train metrics\n",
      "MSE : 5856119611.824684\n",
      "RMSE : 76525.28740112437\n",
      "val metrics\n",
      "MSE : 5049104091.8709955\n",
      "RMSE : 71057.04815055995\n"
     ]
    }
   ],
   "source": [
    "from sklearn.metrics import mean_squared_error\n",
    "\n",
    "print('train metrics')\n",
    "print('MSE :', mean_squared_error(y_train, y_train_prediction))\n",
    "print('RMSE :',mean_squared_error(y_train, y_train_prediction, squared = False))\n",
    "\n",
    "print('val metrics')\n",
    "print('MSE :',mean_squared_error(y_val, y_val_prediction))\n",
    "print('RMSE :',mean_squared_error(y_val, y_val_prediction, squared = False))"
   ]
  }
 ],
 "metadata": {
  "kaggle": {
   "accelerator": "none",
   "dataSources": [
    {
     "databundleVersionId": 9057646,
     "sourceId": 76728,
     "sourceType": "competition"
    }
   ],
   "dockerImageVersionId": 30775,
   "isGpuEnabled": false,
   "isInternetEnabled": false,
   "language": "python",
   "sourceType": "notebook"
  },
  "kernelspec": {
   "display_name": "Python 3",
   "language": "python",
   "name": "python3"
  },
  "language_info": {
   "codemirror_mode": {
    "name": "ipython",
    "version": 3
   },
   "file_extension": ".py",
   "mimetype": "text/x-python",
   "name": "python",
   "nbconvert_exporter": "python",
   "pygments_lexer": "ipython3",
   "version": "3.10.14"
  },
  "papermill": {
   "default_parameters": {},
   "duration": 8.740222,
   "end_time": "2024-09-29T11:03:20.436011",
   "environment_variables": {},
   "exception": null,
   "input_path": "__notebook__.ipynb",
   "output_path": "__notebook__.ipynb",
   "parameters": {},
   "start_time": "2024-09-29T11:03:11.695789",
   "version": "2.6.0"
  }
 },
 "nbformat": 4,
 "nbformat_minor": 5
}
